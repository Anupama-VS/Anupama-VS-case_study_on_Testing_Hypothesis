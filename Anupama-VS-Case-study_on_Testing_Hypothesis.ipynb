{
 "cells": [
  {
   "cell_type": "code",
   "execution_count": 41,
   "id": "30e3bad3",
   "metadata": {},
   "outputs": [
    {
     "name": "stdout",
     "output_type": "stream",
     "text": [
      "       Month      Region      Manager  Sales_before_digital_add(in $)  Sales_After_digital_add(in $)\n",
      "0    Month-1  Region - A  Manager - A                          132921                         270390\n",
      "1    Month-2  Region - A  Manager - C                          149559                         223334\n",
      "2    Month-3  Region - B  Manager - A                          146278                         244243\n",
      "3    Month-4  Region - B  Manager - B                          152167                         231808\n",
      "4    Month-5  Region - C  Manager - B                          159525                         258402\n",
      "5    Month-6  Region - A  Manager - B                          137163                         256948\n",
      "6    Month-7  Region - C  Manager - C                          130625                         222106\n",
      "7    Month-8  Region - A  Manager - A                          131140                         230637\n",
      "8    Month-9  Region - B  Manager - C                          171259                         226261\n",
      "9   Month-10  Region - C  Manager - B                          141956                         193735\n",
      "10  Month-11  Region - B  Manager - C                          159339                         203175\n",
      "11  Month-12  Region - A  Manager - A                          178939                         276279\n",
      "12  Month-13  Region - B  Manager - A                          145062                         205180\n",
      "13  Month-14  Region - A  Manager - A                          151514                         253131\n",
      "14  Month-15  Region - C  Manager - A                          147463                         229336\n",
      "15  Month-16  Region - A  Manager - B                          177195                         187305\n",
      "16  Month-17  Region - A  Manager - C                          140862                         234908\n",
      "17  Month-18  Region - C  Manager - B                          167996                         191517\n",
      "18  Month-19  Region - B  Manager - A                          132135                         227040\n",
      "19  Month-20  Region - A  Manager - B                          152493                         212579\n",
      "20  Month-21  Region - B  Manager - A                          147425                         263388\n",
      "21  Month-22  Region - A  Manager - C                          130263                         243020\n"
     ]
    }
   ],
   "source": [
    "import numpy as np\n",
    "import pandas as pd\n",
    "import seaborn as sns\n",
    "import matplotlib.pyplot as plt \n",
    "import statistics as stats\n",
    "data= pd.read_csv('C:/Users/USER/Desktop/Sales_add.csv')\n",
    "print(data.to_string())"
   ]
  },
  {
   "cell_type": "code",
   "execution_count": 42,
   "id": "3ad9a51d",
   "metadata": {},
   "outputs": [
    {
     "data": {
      "text/plain": [
       "Index(['Month', 'Region', 'Manager', 'Sales_before_digital_add(in $)',\n",
       "       'Sales_After_digital_add(in $)'],\n",
       "      dtype='object')"
      ]
     },
     "execution_count": 42,
     "metadata": {},
     "output_type": "execute_result"
    }
   ],
   "source": [
    "data.columns"
   ]
  },
  {
   "cell_type": "code",
   "execution_count": 43,
   "id": "3026c095",
   "metadata": {},
   "outputs": [
    {
     "name": "stderr",
     "output_type": "stream",
     "text": [
      "C:\\Users\\USER\\AppData\\Local\\Temp\\ipykernel_170288\\531903386.py:1: FutureWarning: Dropping of nuisance columns in DataFrame reductions (with 'numeric_only=None') is deprecated; in a future version this will raise TypeError.  Select only valid columns before calling the reduction.\n",
      "  data.mean()\n"
     ]
    },
    {
     "data": {
      "text/plain": [
       "Sales_before_digital_add(in $)    149239.954545\n",
       "Sales_After_digital_add(in $)     231123.727273\n",
       "dtype: float64"
      ]
     },
     "execution_count": 43,
     "metadata": {},
     "output_type": "execute_result"
    }
   ],
   "source": [
    "data.mean()"
   ]
  },
  {
   "cell_type": "code",
   "execution_count": 44,
   "id": "76042053",
   "metadata": {},
   "outputs": [
    {
     "name": "stderr",
     "output_type": "stream",
     "text": [
      "C:\\Users\\USER\\AppData\\Local\\Temp\\ipykernel_170288\\4184645713.py:1: FutureWarning: Dropping of nuisance columns in DataFrame reductions (with 'numeric_only=None') is deprecated; in a future version this will raise TypeError.  Select only valid columns before calling the reduction.\n",
      "  data.median()\n"
     ]
    },
    {
     "data": {
      "text/plain": [
       "Sales_before_digital_add(in $)    147444.0\n",
       "Sales_After_digital_add(in $)     229986.5\n",
       "dtype: float64"
      ]
     },
     "execution_count": 44,
     "metadata": {},
     "output_type": "execute_result"
    }
   ],
   "source": [
    "data.median()"
   ]
  },
  {
   "cell_type": "code",
   "execution_count": 45,
   "id": "25f30917",
   "metadata": {},
   "outputs": [
    {
     "data": {
      "text/html": [
       "<div>\n",
       "<style scoped>\n",
       "    .dataframe tbody tr th:only-of-type {\n",
       "        vertical-align: middle;\n",
       "    }\n",
       "\n",
       "    .dataframe tbody tr th {\n",
       "        vertical-align: top;\n",
       "    }\n",
       "\n",
       "    .dataframe thead th {\n",
       "        text-align: right;\n",
       "    }\n",
       "</style>\n",
       "<table border=\"1\" class=\"dataframe\">\n",
       "  <thead>\n",
       "    <tr style=\"text-align: right;\">\n",
       "      <th></th>\n",
       "      <th>Month</th>\n",
       "      <th>Region</th>\n",
       "      <th>Manager</th>\n",
       "      <th>Sales_before_digital_add(in $)</th>\n",
       "      <th>Sales_After_digital_add(in $)</th>\n",
       "    </tr>\n",
       "  </thead>\n",
       "  <tbody>\n",
       "    <tr>\n",
       "      <th>0</th>\n",
       "      <td>Month-1</td>\n",
       "      <td>Region - A</td>\n",
       "      <td>Manager - A</td>\n",
       "      <td>130263</td>\n",
       "      <td>187305</td>\n",
       "    </tr>\n",
       "    <tr>\n",
       "      <th>1</th>\n",
       "      <td>Month-10</td>\n",
       "      <td>NaN</td>\n",
       "      <td>NaN</td>\n",
       "      <td>130625</td>\n",
       "      <td>191517</td>\n",
       "    </tr>\n",
       "    <tr>\n",
       "      <th>2</th>\n",
       "      <td>Month-11</td>\n",
       "      <td>NaN</td>\n",
       "      <td>NaN</td>\n",
       "      <td>131140</td>\n",
       "      <td>193735</td>\n",
       "    </tr>\n",
       "    <tr>\n",
       "      <th>3</th>\n",
       "      <td>Month-12</td>\n",
       "      <td>NaN</td>\n",
       "      <td>NaN</td>\n",
       "      <td>132135</td>\n",
       "      <td>203175</td>\n",
       "    </tr>\n",
       "    <tr>\n",
       "      <th>4</th>\n",
       "      <td>Month-13</td>\n",
       "      <td>NaN</td>\n",
       "      <td>NaN</td>\n",
       "      <td>132921</td>\n",
       "      <td>205180</td>\n",
       "    </tr>\n",
       "    <tr>\n",
       "      <th>5</th>\n",
       "      <td>Month-14</td>\n",
       "      <td>NaN</td>\n",
       "      <td>NaN</td>\n",
       "      <td>137163</td>\n",
       "      <td>212579</td>\n",
       "    </tr>\n",
       "    <tr>\n",
       "      <th>6</th>\n",
       "      <td>Month-15</td>\n",
       "      <td>NaN</td>\n",
       "      <td>NaN</td>\n",
       "      <td>140862</td>\n",
       "      <td>222106</td>\n",
       "    </tr>\n",
       "    <tr>\n",
       "      <th>7</th>\n",
       "      <td>Month-16</td>\n",
       "      <td>NaN</td>\n",
       "      <td>NaN</td>\n",
       "      <td>141956</td>\n",
       "      <td>223334</td>\n",
       "    </tr>\n",
       "    <tr>\n",
       "      <th>8</th>\n",
       "      <td>Month-17</td>\n",
       "      <td>NaN</td>\n",
       "      <td>NaN</td>\n",
       "      <td>145062</td>\n",
       "      <td>226261</td>\n",
       "    </tr>\n",
       "    <tr>\n",
       "      <th>9</th>\n",
       "      <td>Month-18</td>\n",
       "      <td>NaN</td>\n",
       "      <td>NaN</td>\n",
       "      <td>146278</td>\n",
       "      <td>227040</td>\n",
       "    </tr>\n",
       "    <tr>\n",
       "      <th>10</th>\n",
       "      <td>Month-19</td>\n",
       "      <td>NaN</td>\n",
       "      <td>NaN</td>\n",
       "      <td>147425</td>\n",
       "      <td>229336</td>\n",
       "    </tr>\n",
       "    <tr>\n",
       "      <th>11</th>\n",
       "      <td>Month-2</td>\n",
       "      <td>NaN</td>\n",
       "      <td>NaN</td>\n",
       "      <td>147463</td>\n",
       "      <td>230637</td>\n",
       "    </tr>\n",
       "    <tr>\n",
       "      <th>12</th>\n",
       "      <td>Month-20</td>\n",
       "      <td>NaN</td>\n",
       "      <td>NaN</td>\n",
       "      <td>149559</td>\n",
       "      <td>231808</td>\n",
       "    </tr>\n",
       "    <tr>\n",
       "      <th>13</th>\n",
       "      <td>Month-21</td>\n",
       "      <td>NaN</td>\n",
       "      <td>NaN</td>\n",
       "      <td>151514</td>\n",
       "      <td>234908</td>\n",
       "    </tr>\n",
       "    <tr>\n",
       "      <th>14</th>\n",
       "      <td>Month-22</td>\n",
       "      <td>NaN</td>\n",
       "      <td>NaN</td>\n",
       "      <td>152167</td>\n",
       "      <td>243020</td>\n",
       "    </tr>\n",
       "    <tr>\n",
       "      <th>15</th>\n",
       "      <td>Month-3</td>\n",
       "      <td>NaN</td>\n",
       "      <td>NaN</td>\n",
       "      <td>152493</td>\n",
       "      <td>244243</td>\n",
       "    </tr>\n",
       "    <tr>\n",
       "      <th>16</th>\n",
       "      <td>Month-4</td>\n",
       "      <td>NaN</td>\n",
       "      <td>NaN</td>\n",
       "      <td>159339</td>\n",
       "      <td>253131</td>\n",
       "    </tr>\n",
       "    <tr>\n",
       "      <th>17</th>\n",
       "      <td>Month-5</td>\n",
       "      <td>NaN</td>\n",
       "      <td>NaN</td>\n",
       "      <td>159525</td>\n",
       "      <td>256948</td>\n",
       "    </tr>\n",
       "    <tr>\n",
       "      <th>18</th>\n",
       "      <td>Month-6</td>\n",
       "      <td>NaN</td>\n",
       "      <td>NaN</td>\n",
       "      <td>167996</td>\n",
       "      <td>258402</td>\n",
       "    </tr>\n",
       "    <tr>\n",
       "      <th>19</th>\n",
       "      <td>Month-7</td>\n",
       "      <td>NaN</td>\n",
       "      <td>NaN</td>\n",
       "      <td>171259</td>\n",
       "      <td>263388</td>\n",
       "    </tr>\n",
       "    <tr>\n",
       "      <th>20</th>\n",
       "      <td>Month-8</td>\n",
       "      <td>NaN</td>\n",
       "      <td>NaN</td>\n",
       "      <td>177195</td>\n",
       "      <td>270390</td>\n",
       "    </tr>\n",
       "    <tr>\n",
       "      <th>21</th>\n",
       "      <td>Month-9</td>\n",
       "      <td>NaN</td>\n",
       "      <td>NaN</td>\n",
       "      <td>178939</td>\n",
       "      <td>276279</td>\n",
       "    </tr>\n",
       "  </tbody>\n",
       "</table>\n",
       "</div>"
      ],
      "text/plain": [
       "       Month      Region      Manager  Sales_before_digital_add(in $)  \\\n",
       "0    Month-1  Region - A  Manager - A                          130263   \n",
       "1   Month-10         NaN          NaN                          130625   \n",
       "2   Month-11         NaN          NaN                          131140   \n",
       "3   Month-12         NaN          NaN                          132135   \n",
       "4   Month-13         NaN          NaN                          132921   \n",
       "5   Month-14         NaN          NaN                          137163   \n",
       "6   Month-15         NaN          NaN                          140862   \n",
       "7   Month-16         NaN          NaN                          141956   \n",
       "8   Month-17         NaN          NaN                          145062   \n",
       "9   Month-18         NaN          NaN                          146278   \n",
       "10  Month-19         NaN          NaN                          147425   \n",
       "11   Month-2         NaN          NaN                          147463   \n",
       "12  Month-20         NaN          NaN                          149559   \n",
       "13  Month-21         NaN          NaN                          151514   \n",
       "14  Month-22         NaN          NaN                          152167   \n",
       "15   Month-3         NaN          NaN                          152493   \n",
       "16   Month-4         NaN          NaN                          159339   \n",
       "17   Month-5         NaN          NaN                          159525   \n",
       "18   Month-6         NaN          NaN                          167996   \n",
       "19   Month-7         NaN          NaN                          171259   \n",
       "20   Month-8         NaN          NaN                          177195   \n",
       "21   Month-9         NaN          NaN                          178939   \n",
       "\n",
       "    Sales_After_digital_add(in $)  \n",
       "0                          187305  \n",
       "1                          191517  \n",
       "2                          193735  \n",
       "3                          203175  \n",
       "4                          205180  \n",
       "5                          212579  \n",
       "6                          222106  \n",
       "7                          223334  \n",
       "8                          226261  \n",
       "9                          227040  \n",
       "10                         229336  \n",
       "11                         230637  \n",
       "12                         231808  \n",
       "13                         234908  \n",
       "14                         243020  \n",
       "15                         244243  \n",
       "16                         253131  \n",
       "17                         256948  \n",
       "18                         258402  \n",
       "19                         263388  \n",
       "20                         270390  \n",
       "21                         276279  "
      ]
     },
     "execution_count": 45,
     "metadata": {},
     "output_type": "execute_result"
    }
   ],
   "source": [
    "data.mode()"
   ]
  },
  {
   "cell_type": "code",
   "execution_count": 46,
   "id": "a1ca4b7b",
   "metadata": {},
   "outputs": [
    {
     "name": "stderr",
     "output_type": "stream",
     "text": [
      "C:\\Users\\USER\\AppData\\Local\\Temp\\ipykernel_170288\\445316826.py:1: FutureWarning: Dropping of nuisance columns in DataFrame reductions (with 'numeric_only=None') is deprecated; in a future version this will raise TypeError.  Select only valid columns before calling the reduction.\n",
      "  data.var()\n"
     ]
    },
    {
     "data": {
      "text/plain": [
       "Sales_before_digital_add(in $)    2.203456e+08\n",
       "Sales_After_digital_add(in $)     6.531489e+08\n",
       "dtype: float64"
      ]
     },
     "execution_count": 46,
     "metadata": {},
     "output_type": "execute_result"
    }
   ],
   "source": [
    "data.var()"
   ]
  },
  {
   "cell_type": "markdown",
   "id": "d80a6312",
   "metadata": {},
   "source": [
    "#### The company wishes to clarify whether there is any increase in sales after stepping into digital marketing."
   ]
  },
  {
   "cell_type": "code",
   "execution_count": null,
   "id": "be18ce50",
   "metadata": {},
   "outputs": [],
   "source": [
    "#Here number of sample is less than 30 two sample t-test is used."
   ]
  },
  {
   "cell_type": "code",
   "execution_count": 47,
   "id": "b24731d6",
   "metadata": {},
   "outputs": [],
   "source": [
    "from scipy.stats import ttest_ind"
   ]
  },
  {
   "cell_type": "code",
   "execution_count": 48,
   "id": "f45cafc4",
   "metadata": {},
   "outputs": [],
   "source": [
    "t_test,p_value=ttest_ind(data['Sales_before_digital_add(in $)'],data['Sales_After_digital_add(in $)'])"
   ]
  },
  {
   "cell_type": "code",
   "execution_count": 49,
   "id": "19c03401",
   "metadata": {},
   "outputs": [
    {
     "data": {
      "text/plain": [
       "2.614368006904645e-16"
      ]
     },
     "execution_count": 49,
     "metadata": {},
     "output_type": "execute_result"
    }
   ],
   "source": [
    "p_value"
   ]
  },
  {
   "cell_type": "code",
   "execution_count": 50,
   "id": "dd995179",
   "metadata": {},
   "outputs": [
    {
     "name": "stdout",
     "output_type": "stream",
     "text": [
      "There is increase in sales after stepping in to DM\n"
     ]
    }
   ],
   "source": [
    "if p_value<0.05:\n",
    "    print('There is increase in sales after stepping in to DM')\n",
    "else:\n",
    "    print('No change in sales')"
   ]
  },
  {
   "cell_type": "code",
   "execution_count": null,
   "id": "5ab8e210",
   "metadata": {},
   "outputs": [],
   "source": [
    "#Here Null hypothesis is no change in sales after stepping to digital marketing and alternate hypothesis is increase in sales after stepping into digital marketing.p value is greater than 0.05 so null value is regected.So there is increase in sales after stepping in to digiral marketing."
   ]
  },
  {
   "cell_type": "markdown",
   "id": "376b5d37",
   "metadata": {},
   "source": [
    "#### Dependency between the features “Region” and “Manager”."
   ]
  },
  {
   "cell_type": "code",
   "execution_count": null,
   "id": "6b1d3101",
   "metadata": {},
   "outputs": [],
   "source": [
    "#Chi square test of independence can be used"
   ]
  },
  {
   "cell_type": "code",
   "execution_count": 51,
   "id": "ca0c82d3",
   "metadata": {},
   "outputs": [],
   "source": [
    "from scipy.stats import chi2_contingency"
   ]
  },
  {
   "cell_type": "code",
   "execution_count": 52,
   "id": "5785da20",
   "metadata": {},
   "outputs": [],
   "source": [
    "chisqt = pd.crosstab(data.Region,data.Manager,margins=True)"
   ]
  },
  {
   "cell_type": "code",
   "execution_count": 55,
   "id": "3708128e",
   "metadata": {},
   "outputs": [
    {
     "name": "stdout",
     "output_type": "stream",
     "text": [
      "Manager     Manager - A  Manager - B  Manager - C  All\n",
      "Region                                                \n",
      "Region - A            4            3            3   10\n",
      "Region - B            4            1            2    7\n",
      "Region - C            1            3            1    5\n",
      "All                   9            7            6   22\n"
     ]
    }
   ],
   "source": [
    "print(chisqt)"
   ]
  },
  {
   "cell_type": "code",
   "execution_count": 56,
   "id": "59c9c31e",
   "metadata": {},
   "outputs": [],
   "source": [
    "c,p,dof,expected=chi2_contingency(chisqt)"
   ]
  },
  {
   "cell_type": "code",
   "execution_count": 57,
   "id": "991fc72a",
   "metadata": {},
   "outputs": [
    {
     "data": {
      "text/plain": [
       "0.962256341757093"
      ]
     },
     "execution_count": 57,
     "metadata": {},
     "output_type": "execute_result"
    }
   ],
   "source": [
    "p"
   ]
  },
  {
   "cell_type": "code",
   "execution_count": 58,
   "id": "ae929cbd",
   "metadata": {},
   "outputs": [
    {
     "name": "stdout",
     "output_type": "stream",
     "text": [
      "No dependancy between Region and Manager\n"
     ]
    }
   ],
   "source": [
    "if p<0.05:\n",
    "    print('There is dependancy between Region and Manager')\n",
    "else:\n",
    "    print('No dependancy between Region and Manager')"
   ]
  },
  {
   "cell_type": "code",
   "execution_count": null,
   "id": "456014e7",
   "metadata": {},
   "outputs": [],
   "source": [
    "#Here pvalue is greater than 0.05 so null hypothesis is accepted.There is no dependancy between features 'Region' and 'Manager'. "
   ]
  }
 ],
 "metadata": {
  "kernelspec": {
   "display_name": "Python 3 (ipykernel)",
   "language": "python",
   "name": "python3"
  },
  "language_info": {
   "codemirror_mode": {
    "name": "ipython",
    "version": 3
   },
   "file_extension": ".py",
   "mimetype": "text/x-python",
   "name": "python",
   "nbconvert_exporter": "python",
   "pygments_lexer": "ipython3",
   "version": "3.9.13"
  }
 },
 "nbformat": 4,
 "nbformat_minor": 5
}
